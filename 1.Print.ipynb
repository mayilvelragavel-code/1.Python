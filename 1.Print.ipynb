{
 "cells": [
  {
   "cell_type": "code",
   "execution_count": 1,
   "id": "378a613d-ea60-4d4c-a763-582e6d3ccff9",
   "metadata": {},
   "outputs": [
    {
     "name": "stdout",
     "output_type": "stream",
     "text": [
      "Mayilvel\n"
     ]
    }
   ],
   "source": [
    "print(\"Mayilvel\")"
   ]
  },
  {
   "cell_type": "code",
   "execution_count": 5,
   "id": "ef436144-8474-497d-a462-79efd9b56791",
   "metadata": {},
   "outputs": [
    {
     "name": "stdout",
     "output_type": "stream",
     "text": [
      "200 30 -10 0.5\n"
     ]
    }
   ],
   "source": [
    "num1=10\n",
    "num2=20\n",
    "mul=num1*num2\n",
    "add=num1+num2\n",
    "sub=num1-num2\n",
    "div=num1/num2\n",
    "print(mul,add,sub,div)"
   ]
  },
  {
   "cell_type": "code",
   "execution_count": 8,
   "id": "edf520f5-5808-4f60-a0eb-cb08fb910b77",
   "metadata": {},
   "outputs": [
    {
     "name": "stdout",
     "output_type": "stream",
     "text": [
      "Mayilvel Ragavel\n"
     ]
    }
   ],
   "source": [
    "First_name=(\"Mayilvel\")\n",
    "Second_name=(\"Ragavel\")\n",
    "Space=(\" \")\n",
    "Full_name=First_name+Space+Second_name\n",
    "print(Full_name)"
   ]
  },
  {
   "cell_type": "code",
   "execution_count": null,
   "id": "bd25bc81-f0a4-4002-a2c9-c3a410c66186",
   "metadata": {},
   "outputs": [],
   "source": []
  }
 ],
 "metadata": {
  "kernelspec": {
   "display_name": "Python 3 (ipykernel)",
   "language": "python",
   "name": "python3"
  },
  "language_info": {
   "codemirror_mode": {
    "name": "ipython",
    "version": 3
   },
   "file_extension": ".py",
   "mimetype": "text/x-python",
   "name": "python",
   "nbconvert_exporter": "python",
   "pygments_lexer": "ipython3",
   "version": "3.13.5"
  }
 },
 "nbformat": 4,
 "nbformat_minor": 5
}
