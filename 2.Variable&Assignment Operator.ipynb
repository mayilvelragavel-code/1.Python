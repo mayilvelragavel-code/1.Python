{
 "cells": [
  {
   "cell_type": "code",
   "execution_count": 2,
   "id": "6379c201-ff31-4626-aac3-e6969fd5bc46",
   "metadata": {},
   "outputs": [
    {
     "name": "stdin",
     "output_type": "stream",
     "text": [
      "Enter the First Number 1000\n",
      "Enter the Second Number 750\n",
      "Enter the third Number 500\n"
     ]
    },
    {
     "name": "stdout",
     "output_type": "stream",
     "text": [
      "The Addition of the number you entered: 2250\n",
      "The Subtraction of the number you entered: -250\n",
      "The Multiplication of the number you entered: 375000000\n",
      "The Division of the number you entered: 2.833333333333333\n"
     ]
    }
   ],
   "source": [
    "Enter_number_1 = int(input(\"Enter the First Number\"))\n",
    "Enter_number_2=int(input(\"Enter the Second Number\"))\n",
    "Enter_number_3=int(input(\"Enter the third Number\"))\n",
    "Addition=Enter_number_1+Enter_number_2+Enter_number_3\n",
    "Subtraction=Enter_number_1-Enter_number_2-Enter_number_3\n",
    "Multiplication=Enter_number_1*Enter_number_2*Enter_number_3\n",
    "Division=(Enter_number_1/Enter_number_2)+(Enter_number_2/Enter_number_3)\n",
    "print(\"The Addition of the number you entered:\", Addition)\n",
    "print(\"The Subtraction of the number you entered:\", Subtraction)\n",
    "print(\"The Multiplication of the number you entered:\", Multiplication)\n",
    "print(\"The Division of the number you entered:\", Division)"
   ]
  },
  {
   "cell_type": "code",
   "execution_count": null,
   "id": "ad35f4e4-bb37-4fd6-b482-64ed8d0adeaa",
   "metadata": {},
   "outputs": [],
   "source": []
  }
 ],
 "metadata": {
  "kernelspec": {
   "display_name": "Python 3 (ipykernel)",
   "language": "python",
   "name": "python3"
  },
  "language_info": {
   "codemirror_mode": {
    "name": "ipython",
    "version": 3
   },
   "file_extension": ".py",
   "mimetype": "text/x-python",
   "name": "python",
   "nbconvert_exporter": "python",
   "pygments_lexer": "ipython3",
   "version": "3.13.5"
  }
 },
 "nbformat": 4,
 "nbformat_minor": 5
}
