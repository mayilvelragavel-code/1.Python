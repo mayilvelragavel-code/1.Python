{
 "cells": [
  {
   "cell_type": "code",
   "execution_count": 1,
   "id": "8f86f565-847d-49ad-acf9-0fc9d50315ca",
   "metadata": {},
   "outputs": [
    {
     "name": "stdout",
     "output_type": "stream",
     "text": [
      "70\n"
     ]
    }
   ],
   "source": [
    "num1=30\n",
    "num2=40\n",
    "print(num1+num2)"
   ]
  },
  {
   "cell_type": "code",
   "execution_count": 2,
   "id": "4436d824-7d26-4cec-b482-dbd448fa2d88",
   "metadata": {},
   "outputs": [],
   "source": [
    "NUMBER2=100\n",
    "NUMBER3=300"
   ]
  },
  {
   "cell_type": "code",
   "execution_count": 3,
   "id": "e16b7375-a1ba-4544-8e69-b3d6f5eeaa69",
   "metadata": {},
   "outputs": [
    {
     "name": "stdout",
     "output_type": "stream",
     "text": [
      "470\n"
     ]
    }
   ],
   "source": [
    "print(NUMBER2+NUMBER3+num1+num2)"
   ]
  },
  {
   "cell_type": "code",
   "execution_count": 5,
   "id": "31f113b8-360c-4982-b8f9-57d952d78346",
   "metadata": {},
   "outputs": [
    {
     "name": "stdout",
     "output_type": "stream",
     "text": [
      "230\n"
     ]
    }
   ],
   "source": [
    "NUM1=200\n",
    "print(num1+NUM1)"
   ]
  },
  {
   "cell_type": "code",
   "execution_count": null,
   "id": "26cfac91-80b6-4f29-bda3-bb4ae8708969",
   "metadata": {},
   "outputs": [],
   "source": []
  }
 ],
 "metadata": {
  "kernelspec": {
   "display_name": "Python 3 (ipykernel)",
   "language": "python",
   "name": "python3"
  },
  "language_info": {
   "codemirror_mode": {
    "name": "ipython",
    "version": 3
   },
   "file_extension": ".py",
   "mimetype": "text/x-python",
   "name": "python",
   "nbconvert_exporter": "python",
   "pygments_lexer": "ipython3",
   "version": "3.13.5"
  }
 },
 "nbformat": 4,
 "nbformat_minor": 5
}
